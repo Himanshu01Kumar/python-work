{
 "cells": [
  {
   "cell_type": "code",
   "execution_count": 2,
   "id": "1398d967-61d2-4345-9545-907f0c5fb467",
   "metadata": {},
   "outputs": [
    {
     "data": {
      "text/plain": [
       "str"
      ]
     },
     "execution_count": 2,
     "metadata": {},
     "output_type": "execute_result"
    }
   ],
   "source": [
    "name=(\"*\")\n",
    "type(name)"
   ]
  },
  {
   "cell_type": "code",
   "execution_count": 3,
   "id": "43498fcf-3231-47f3-a4c5-4aeaf836d4f3",
   "metadata": {},
   "outputs": [
    {
     "data": {
      "text/plain": [
       "str"
      ]
     },
     "execution_count": 3,
     "metadata": {},
     "output_type": "execute_result"
    }
   ],
   "source": [
    "name=(\"hello\")\n",
    "type(name)"
   ]
  },
  {
   "cell_type": "code",
   "execution_count": 5,
   "id": "58057a42-6c37-412c-86dc-6a41d7c7eb75",
   "metadata": {},
   "outputs": [
    {
     "data": {
      "text/plain": [
       "float"
      ]
     },
     "execution_count": 5,
     "metadata": {},
     "output_type": "execute_result"
    }
   ],
   "source": [
    "name=-87.8\n",
    "type(name)"
   ]
  },
  {
   "cell_type": "code",
   "execution_count": 8,
   "id": "78e0b9f2-8142-4484-a1c0-c826e41ab22c",
   "metadata": {},
   "outputs": [
    {
     "data": {
      "text/plain": [
       "str"
      ]
     },
     "execution_count": 8,
     "metadata": {},
     "output_type": "execute_result"
    }
   ],
   "source": [
    "name=(\"-\")\n",
    "type(name)"
   ]
  },
  {
   "cell_type": "code",
   "execution_count": 10,
   "id": "3a8a37e0-4c19-48fc-a7e6-6e99f1bffb8e",
   "metadata": {},
   "outputs": [
    {
     "data": {
      "text/plain": [
       "str"
      ]
     },
     "execution_count": 10,
     "metadata": {},
     "output_type": "execute_result"
    }
   ],
   "source": [
    "name=(\"/\")\n",
    "type(name)"
   ]
  },
  {
   "cell_type": "code",
   "execution_count": 13,
   "id": "6702896f-0881-4090-9c2b-13b34548ddf8",
   "metadata": {},
   "outputs": [
    {
     "data": {
      "text/plain": [
       "str"
      ]
     },
     "execution_count": 13,
     "metadata": {},
     "output_type": "execute_result"
    }
   ],
   "source": [
    "name=\"+\"\n",
    "type(name)"
   ]
  },
  {
   "cell_type": "code",
   "execution_count": 16,
   "id": "0c7a29f0-02af-43e6-a595-836db29dc402",
   "metadata": {},
   "outputs": [
    {
     "data": {
      "text/plain": [
       "int"
      ]
     },
     "execution_count": 16,
     "metadata": {},
     "output_type": "execute_result"
    }
   ],
   "source": [
    "name=6\n",
    "type(name)"
   ]
  },
  {
   "cell_type": "markdown",
   "id": "0161a2bd-7295-495c-a0bf-eca5b60456e4",
   "metadata": {},
   "source": [
    "Q no. 2 - differences\n",
    "        string- A string is a sequence of charscter and it always inside the Quotes for Ex- \"hello\",\"1\",\"2\",\"3\"\n",
    "        Variable- it is used to store data and value.Variable means the value which varies place to place for Ex-\"Rahul\",\"Jack\""
   ]
  },
  {
   "cell_type": "markdown",
   "id": "99894b64-b4e6-406d-aea1-1a05f5d5a712",
   "metadata": {},
   "source": [
    "Q no. 3-   the three Data types are:-\n",
    "           1.String-\"Hello\",\"1\"\n",
    "           2.Float- 14.5,80.7,108.99\n",
    "           3.int- 5,7,-6"
   ]
  },
  {
   "cell_type": "markdown",
   "id": "42a301cf-ada4-4b0a-b387-fb5dc347350e",
   "metadata": {},
   "source": [
    "Q no. 4 - values and variable are made the expression \n",
    "          Evaluate to single value like- 5+4"
   ]
  },
  {
   "cell_type": "markdown",
   "id": "b527bda6-9773-4df7-b73d-c2bccec8379f",
   "metadata": {},
   "source": [
    "Q no. 5- Expression- it produce a value like 4+5\n",
    "                     it can be used inside the statement\n",
    "         Statement- it performs an action like as Spam 10\n",
    "                    Sometimes may be contain expression"
   ]
  },
  {
   "cell_type": "code",
   "execution_count": 34,
   "id": "277d2fba-e030-4b30-90f2-1a5f1ca5c641",
   "metadata": {},
   "outputs": [
    {
     "data": {
      "text/plain": [
       "23"
      ]
     },
     "execution_count": 34,
     "metadata": {},
     "output_type": "execute_result"
    }
   ],
   "source": [
    "bucon=22\n",
    "bucon+1"
   ]
  },
  {
   "cell_type": "code",
   "execution_count": 35,
   "id": "bacb7034-fedf-4213-8c8f-a64f0325d893",
   "metadata": {},
   "outputs": [
    {
     "data": {
      "text/plain": [
       "'spamspamspam'"
      ]
     },
     "execution_count": 35,
     "metadata": {},
     "output_type": "execute_result"
    }
   ],
   "source": [
    "'spam'+'spamspam'\n",
    "'spam'*3"
   ]
  },
  {
   "cell_type": "markdown",
   "id": "e3512ade-9a6e-4571-803f-a5639be79fc6",
   "metadata": {},
   "source": [
    "Q no. 8- eggs is variable because variable digits start with lettr's and 100 starts with numbers that,s the reason for eggs is valid and 100 is invalid\n",
    "         python cannot allow to use numbers as variable"
   ]
  },
  {
   "cell_type": "code",
   "execution_count": 36,
   "id": "18aaac5d-7249-43af-9ffe-4cd40f9b5c4c",
   "metadata": {},
   "outputs": [],
   "source": [
    "int=10\n",
    "float=6.2\n",
    "str=\"hello\""
   ]
  },
  {
   "cell_type": "code",
   "execution_count": 38,
   "id": "fbfba267-4b16-41a5-a57b-22d73a18401e",
   "metadata": {},
   "outputs": [
    {
     "name": "stdout",
     "output_type": "stream",
     "text": [
      "20\n"
     ]
    },
    {
     "data": {
      "text/plain": [
       "int"
      ]
     },
     "execution_count": 38,
     "metadata": {},
     "output_type": "execute_result"
    }
   ],
   "source": [
    "print(10+10)\n",
    "type(name)"
   ]
  },
  {
   "cell_type": "code",
   "execution_count": 39,
   "id": "dd13fe89-5f43-4c43-a3ec-3b6fd53d4b7f",
   "metadata": {},
   "outputs": [
    {
     "name": "stdout",
     "output_type": "stream",
     "text": [
      "1.4000000000000004\n"
     ]
    },
    {
     "data": {
      "text/plain": [
       "int"
      ]
     },
     "execution_count": 39,
     "metadata": {},
     "output_type": "execute_result"
    }
   ],
   "source": [
    "print(6.2-4.8)\n",
    "type(name)"
   ]
  },
  {
   "cell_type": "code",
   "execution_count": 45,
   "id": "d4c36df7-62e9-4649-b156-50aee8dfe44f",
   "metadata": {},
   "outputs": [
    {
     "data": {
      "text/plain": [
       "str"
      ]
     },
     "execution_count": 45,
     "metadata": {},
     "output_type": "execute_result"
    }
   ],
   "source": [
    "name=\"hello\"\n",
    "type(name)"
   ]
  },
  {
   "cell_type": "code",
   "execution_count": 46,
   "id": "6e5f1faa-e962-4542-ba10-6a3cfbfb2b79",
   "metadata": {},
   "outputs": [
    {
     "ename": "TypeError",
     "evalue": "can only concatenate str (not \"int\") to str",
     "output_type": "error",
     "traceback": [
      "\u001b[1;31m---------------------------------------------------------------------------\u001b[0m",
      "\u001b[1;31mTypeError\u001b[0m                                 Traceback (most recent call last)",
      "Cell \u001b[1;32mIn[46], line 1\u001b[0m\n\u001b[1;32m----> 1\u001b[0m \u001b[38;5;124m'\u001b[39m\u001b[38;5;124mi have eaten\u001b[39m\u001b[38;5;124m'\u001b[39m\u001b[38;5;241m+\u001b[39m\u001b[38;5;241m99\u001b[39m\u001b[38;5;241m+\u001b[39m\u001b[38;5;124m'\u001b[39m\u001b[38;5;124mburritos\u001b[39m\u001b[38;5;124m'\u001b[39m\n",
      "\u001b[1;31mTypeError\u001b[0m: can only concatenate str (not \"int\") to str"
     ]
    }
   ],
   "source": [
    "'i have eaten'+99+'burritos'"
   ]
  },
  {
   "cell_type": "code",
   "execution_count": 47,
   "id": "5696c9cb-8b9e-4bcf-9d75-fe3634aa7bc2",
   "metadata": {},
   "outputs": [
    {
     "data": {
      "text/plain": [
       "'i have Eaten 99 burritos'"
      ]
     },
     "execution_count": 47,
     "metadata": {},
     "output_type": "execute_result"
    }
   ],
   "source": [
    "\"i have Eaten 99 burritos\""
   ]
  },
  {
   "cell_type": "code",
   "execution_count": 49,
   "id": "d56825e8-1277-4851-adf2-d41f1edf3c67",
   "metadata": {},
   "outputs": [
    {
     "ename": "SyntaxError",
     "evalue": "invalid syntax (3732905048.py, line 1)",
     "output_type": "error",
     "traceback": [
      "\u001b[1;36m  Cell \u001b[1;32mIn[49], line 1\u001b[1;36m\u001b[0m\n\u001b[1;33m    python does not give command to run program in int+str\u001b[0m\n\u001b[1;37m           ^\u001b[0m\n\u001b[1;31mSyntaxError\u001b[0m\u001b[1;31m:\u001b[0m invalid syntax\n"
     ]
    }
   ],
   "source": [
    "python does not give command to run program in int+str"
   ]
  },
  {
   "cell_type": "code",
   "execution_count": null,
   "id": "4a413d81-8ca5-45e5-ba57-a55523d645d7",
   "metadata": {},
   "outputs": [],
   "source": []
  },
  {
   "cell_type": "code",
   "execution_count": null,
   "id": "7f671a3f-b33b-4910-ba80-bd7a1b0fa87a",
   "metadata": {},
   "outputs": [],
   "source": []
  },
  {
   "cell_type": "code",
   "execution_count": null,
   "id": "7e35b906-a30f-4ab4-8d12-bc6a0fae8880",
   "metadata": {},
   "outputs": [],
   "source": []
  },
  {
   "cell_type": "code",
   "execution_count": null,
   "id": "5c88cbd6-2462-4e19-882d-693ad265197f",
   "metadata": {},
   "outputs": [],
   "source": []
  },
  {
   "cell_type": "code",
   "execution_count": null,
   "id": "4b3d763b-d318-4820-ae64-0beee0adb372",
   "metadata": {},
   "outputs": [],
   "source": []
  },
  {
   "cell_type": "code",
   "execution_count": null,
   "id": "2aa565b3-5976-409e-bb57-5fbb13002c18",
   "metadata": {},
   "outputs": [],
   "source": []
  },
  {
   "cell_type": "code",
   "execution_count": null,
   "id": "c2f12632-af92-4004-971f-a7f6a57b89db",
   "metadata": {},
   "outputs": [],
   "source": []
  },
  {
   "cell_type": "code",
   "execution_count": null,
   "id": "7e44e6af-e203-4f31-981b-01d7c6e2e1ff",
   "metadata": {},
   "outputs": [],
   "source": []
  }
 ],
 "metadata": {
  "kernelspec": {
   "display_name": "Python 3 (ipykernel)",
   "language": "python",
   "name": "python3"
  },
  "language_info": {
   "codemirror_mode": {
    "name": "ipython",
    "version": 3
   },
   "file_extension": ".py",
   "mimetype": "text/x-python",
   "name": "python",
   "nbconvert_exporter": "python",
   "pygments_lexer": "ipython3",
   "version": "3.13.5"
  }
 },
 "nbformat": 4,
 "nbformat_minor": 5
}
